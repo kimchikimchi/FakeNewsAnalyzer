{
 "cells": [
  {
   "cell_type": "code",
   "execution_count": 37,
   "metadata": {},
   "outputs": [],
   "source": [
    "# Import libraries\n",
    "\n",
    "import numpy as np\n",
    "import pandas as pd\n",
    "import itertools\n",
    "import pickle\n",
    "import matplotlib.pyplot as plt\n",
    "from sklearn.model_selection import train_test_split\n",
    "from sklearn.feature_extraction.text import TfidfVectorizer\n",
    "from sklearn.linear_model import PassiveAggressiveClassifier\n",
    "from sklearn.metrics import accuracy_score, confusion_matrix"
   ]
  },
  {
   "cell_type": "code",
   "execution_count": 2,
   "metadata": {},
   "outputs": [],
   "source": [
    "# Training news data. \n",
    "data = pd.read_csv('../Resources/news.csv')"
   ]
  },
  {
   "cell_type": "code",
   "execution_count": 3,
   "metadata": {},
   "outputs": [
    {
     "data": {
      "text/html": [
       "<div>\n",
       "<style scoped>\n",
       "    .dataframe tbody tr th:only-of-type {\n",
       "        vertical-align: middle;\n",
       "    }\n",
       "\n",
       "    .dataframe tbody tr th {\n",
       "        vertical-align: top;\n",
       "    }\n",
       "\n",
       "    .dataframe thead th {\n",
       "        text-align: right;\n",
       "    }\n",
       "</style>\n",
       "<table border=\"1\" class=\"dataframe\">\n",
       "  <thead>\n",
       "    <tr style=\"text-align: right;\">\n",
       "      <th></th>\n",
       "      <th>Unnamed: 0</th>\n",
       "      <th>title</th>\n",
       "      <th>text</th>\n",
       "      <th>label</th>\n",
       "    </tr>\n",
       "  </thead>\n",
       "  <tbody>\n",
       "    <tr>\n",
       "      <th>0</th>\n",
       "      <td>8476</td>\n",
       "      <td>You Can Smell Hillary’s Fear</td>\n",
       "      <td>Daniel Greenfield, a Shillman Journalism Fello...</td>\n",
       "      <td>FAKE</td>\n",
       "    </tr>\n",
       "    <tr>\n",
       "      <th>1</th>\n",
       "      <td>10294</td>\n",
       "      <td>Watch The Exact Moment Paul Ryan Committed Pol...</td>\n",
       "      <td>Google Pinterest Digg Linkedin Reddit Stumbleu...</td>\n",
       "      <td>FAKE</td>\n",
       "    </tr>\n",
       "    <tr>\n",
       "      <th>2</th>\n",
       "      <td>3608</td>\n",
       "      <td>Kerry to go to Paris in gesture of sympathy</td>\n",
       "      <td>U.S. Secretary of State John F. Kerry said Mon...</td>\n",
       "      <td>REAL</td>\n",
       "    </tr>\n",
       "    <tr>\n",
       "      <th>3</th>\n",
       "      <td>10142</td>\n",
       "      <td>Bernie supporters on Twitter erupt in anger ag...</td>\n",
       "      <td>— Kaydee King (@KaydeeKing) November 9, 2016 T...</td>\n",
       "      <td>FAKE</td>\n",
       "    </tr>\n",
       "    <tr>\n",
       "      <th>4</th>\n",
       "      <td>875</td>\n",
       "      <td>The Battle of New York: Why This Primary Matters</td>\n",
       "      <td>It's primary day in New York and front-runners...</td>\n",
       "      <td>REAL</td>\n",
       "    </tr>\n",
       "  </tbody>\n",
       "</table>\n",
       "</div>"
      ],
      "text/plain": [
       "   Unnamed: 0                                              title  \\\n",
       "0        8476                       You Can Smell Hillary’s Fear   \n",
       "1       10294  Watch The Exact Moment Paul Ryan Committed Pol...   \n",
       "2        3608        Kerry to go to Paris in gesture of sympathy   \n",
       "3       10142  Bernie supporters on Twitter erupt in anger ag...   \n",
       "4         875   The Battle of New York: Why This Primary Matters   \n",
       "\n",
       "                                                text label  \n",
       "0  Daniel Greenfield, a Shillman Journalism Fello...  FAKE  \n",
       "1  Google Pinterest Digg Linkedin Reddit Stumbleu...  FAKE  \n",
       "2  U.S. Secretary of State John F. Kerry said Mon...  REAL  \n",
       "3  — Kaydee King (@KaydeeKing) November 9, 2016 T...  FAKE  \n",
       "4  It's primary day in New York and front-runners...  REAL  "
      ]
     },
     "execution_count": 3,
     "metadata": {},
     "output_type": "execute_result"
    }
   ],
   "source": [
    "#  Note the last column denoting whether articles are fake or real\n",
    "data.head()"
   ]
  },
  {
   "cell_type": "code",
   "execution_count": 4,
   "metadata": {},
   "outputs": [],
   "source": [
    "# Dropping the first column not needed.\n",
    "data.drop(\"Unnamed: 0\", axis=1, inplace=True)"
   ]
  },
  {
   "cell_type": "code",
   "execution_count": 5,
   "metadata": {},
   "outputs": [],
   "source": [
    "# Lowercasing all in 'text' column.\n",
    "data['text'] = data['text'].apply(lambda x: x.lower())"
   ]
  },
  {
   "cell_type": "code",
   "execution_count": 6,
   "metadata": {},
   "outputs": [
    {
     "data": {
      "text/html": [
       "<div>\n",
       "<style scoped>\n",
       "    .dataframe tbody tr th:only-of-type {\n",
       "        vertical-align: middle;\n",
       "    }\n",
       "\n",
       "    .dataframe tbody tr th {\n",
       "        vertical-align: top;\n",
       "    }\n",
       "\n",
       "    .dataframe thead th {\n",
       "        text-align: right;\n",
       "    }\n",
       "</style>\n",
       "<table border=\"1\" class=\"dataframe\">\n",
       "  <thead>\n",
       "    <tr style=\"text-align: right;\">\n",
       "      <th></th>\n",
       "      <th>title</th>\n",
       "      <th>text</th>\n",
       "      <th>label</th>\n",
       "    </tr>\n",
       "  </thead>\n",
       "  <tbody>\n",
       "    <tr>\n",
       "      <th>0</th>\n",
       "      <td>You Can Smell Hillary’s Fear</td>\n",
       "      <td>daniel greenfield, a shillman journalism fello...</td>\n",
       "      <td>FAKE</td>\n",
       "    </tr>\n",
       "    <tr>\n",
       "      <th>1</th>\n",
       "      <td>Watch The Exact Moment Paul Ryan Committed Pol...</td>\n",
       "      <td>google pinterest digg linkedin reddit stumbleu...</td>\n",
       "      <td>FAKE</td>\n",
       "    </tr>\n",
       "    <tr>\n",
       "      <th>2</th>\n",
       "      <td>Kerry to go to Paris in gesture of sympathy</td>\n",
       "      <td>u.s. secretary of state john f. kerry said mon...</td>\n",
       "      <td>REAL</td>\n",
       "    </tr>\n",
       "    <tr>\n",
       "      <th>3</th>\n",
       "      <td>Bernie supporters on Twitter erupt in anger ag...</td>\n",
       "      <td>— kaydee king (@kaydeeking) november 9, 2016 t...</td>\n",
       "      <td>FAKE</td>\n",
       "    </tr>\n",
       "    <tr>\n",
       "      <th>4</th>\n",
       "      <td>The Battle of New York: Why This Primary Matters</td>\n",
       "      <td>it's primary day in new york and front-runners...</td>\n",
       "      <td>REAL</td>\n",
       "    </tr>\n",
       "  </tbody>\n",
       "</table>\n",
       "</div>"
      ],
      "text/plain": [
       "                                               title  \\\n",
       "0                       You Can Smell Hillary’s Fear   \n",
       "1  Watch The Exact Moment Paul Ryan Committed Pol...   \n",
       "2        Kerry to go to Paris in gesture of sympathy   \n",
       "3  Bernie supporters on Twitter erupt in anger ag...   \n",
       "4   The Battle of New York: Why This Primary Matters   \n",
       "\n",
       "                                                text label  \n",
       "0  daniel greenfield, a shillman journalism fello...  FAKE  \n",
       "1  google pinterest digg linkedin reddit stumbleu...  FAKE  \n",
       "2  u.s. secretary of state john f. kerry said mon...  REAL  \n",
       "3  — kaydee king (@kaydeeking) november 9, 2016 t...  FAKE  \n",
       "4  it's primary day in new york and front-runners...  REAL  "
      ]
     },
     "execution_count": 6,
     "metadata": {},
     "output_type": "execute_result"
    }
   ],
   "source": [
    "data.head()"
   ]
  },
  {
   "cell_type": "code",
   "execution_count": 7,
   "metadata": {},
   "outputs": [
    {
     "data": {
      "text/plain": [
       "(6335, 3)"
      ]
     },
     "execution_count": 7,
     "metadata": {},
     "output_type": "execute_result"
    }
   ],
   "source": [
    "# (rows, columns) returned\n",
    "data.shape"
   ]
  },
  {
   "cell_type": "code",
   "execution_count": 13,
   "metadata": {},
   "outputs": [
    {
     "data": {
      "text/plain": [
       "0    FAKE\n",
       "1    FAKE\n",
       "2    REAL\n",
       "3    FAKE\n",
       "4    REAL\n",
       "Name: label, dtype: object"
      ]
     },
     "execution_count": 13,
     "metadata": {},
     "output_type": "execute_result"
    }
   ],
   "source": [
    "labels = data['label']\n",
    "labels.head()"
   ]
  },
  {
   "cell_type": "code",
   "execution_count": 14,
   "metadata": {},
   "outputs": [
    {
     "data": {
      "text/plain": [
       "array(['FAKE', 'REAL'], dtype=object)"
      ]
     },
     "execution_count": 14,
     "metadata": {},
     "output_type": "execute_result"
    }
   ],
   "source": [
    "# We expect the last column will be either FAKE or REAL.  Just confirming.\n",
    "data['label'].unique()"
   ]
  },
  {
   "cell_type": "code",
   "execution_count": 15,
   "metadata": {},
   "outputs": [
    {
     "data": {
      "text/plain": [
       "title    6335\n",
       "text     6335\n",
       "label    6335\n",
       "dtype: int64"
      ]
     },
     "execution_count": 15,
     "metadata": {},
     "output_type": "execute_result"
    }
   ],
   "source": [
    "# Doing futher sanity checking by counting number of each columns.\n",
    "data = data.dropna()\n",
    "data.count()"
   ]
  },
  {
   "cell_type": "code",
   "execution_count": 16,
   "metadata": {},
   "outputs": [],
   "source": [
    "# Split the dataset\n",
    "x_train, x_test, y_train, y_test = train_test_split(data['text'], labels, test_size=0.2, random_state=7)"
   ]
  },
  {
   "cell_type": "code",
   "execution_count": 18,
   "metadata": {},
   "outputs": [],
   "source": [
    "# Initialize a TfidfVectorizer. \n",
    "# See for details https://scikit-learn.org/stable/modules/generated/sklearn.feature_extraction.text.TfidfVectorizer.html\n",
    "tfidf_vectorizer = TfidfVectorizer(stop_words='english', max_df=0.7)\n",
    "\n",
    "# Fit and transform train set, transform test set\n",
    "tfidf_train = tfidf_vectorizer.fit_transform(x_train) \n",
    "tfidf_test = tfidf_vectorizer.transform(x_test)"
   ]
  },
  {
   "cell_type": "code",
   "execution_count": 22,
   "metadata": {},
   "outputs": [
    {
     "name": "stdout",
     "output_type": "stream",
     "text": [
      "Accuracy: 92.42%\n"
     ]
    }
   ],
   "source": [
    "# Initialize a PassiveAggressiveClassifier\n",
    "pac = PassiveAggressiveClassifier(max_iter=50)\n",
    "pac.fit(tfidf_train, y_train)\n",
    "\n",
    "# Predict on the test set and calculate accuracy\n",
    "y_pred = pac.predict(tfidf_test)\n",
    "score = accuracy_score(y_test, y_pred)\n",
    "print(f'Accuracy: {round(score*100,2)}%')"
   ]
  },
  {
   "cell_type": "code",
   "execution_count": 24,
   "metadata": {},
   "outputs": [
    {
     "data": {
      "text/plain": [
       "array([[585,  53],\n",
       "       [ 43, 586]])"
      ]
     },
     "execution_count": 24,
     "metadata": {},
     "output_type": "execute_result"
    }
   ],
   "source": [
    "# Build confusion matrix\n",
    "confusion_matrix(y_test,y_pred, labels=['FAKE','REAL'])\n",
    "\n",
    "# Need to still add text for 591 True Postives, 588 ture Negitives, \n",
    "# 47 False Postives, and 41 False Negitives\n",
    "# ToDo: Need to elaborate on how to interpret the results below."
   ]
  },
  {
   "cell_type": "code",
   "execution_count": 25,
   "metadata": {},
   "outputs": [
    {
     "data": {
      "text/plain": [
       "3534    REAL\n",
       "6265    FAKE\n",
       "3123    REAL\n",
       "3940    REAL\n",
       "2856    REAL\n",
       "Name: label, dtype: object"
      ]
     },
     "execution_count": 25,
     "metadata": {},
     "output_type": "execute_result"
    }
   ],
   "source": [
    "y_test.head()"
   ]
  },
  {
   "cell_type": "code",
   "execution_count": 31,
   "metadata": {},
   "outputs": [
    {
     "data": {
      "text/html": [
       "<div>\n",
       "<style scoped>\n",
       "    .dataframe tbody tr th:only-of-type {\n",
       "        vertical-align: middle;\n",
       "    }\n",
       "\n",
       "    .dataframe tbody tr th {\n",
       "        vertical-align: top;\n",
       "    }\n",
       "\n",
       "    .dataframe thead th {\n",
       "        text-align: right;\n",
       "    }\n",
       "</style>\n",
       "<table border=\"1\" class=\"dataframe\">\n",
       "  <thead>\n",
       "    <tr style=\"text-align: right;\">\n",
       "      <th></th>\n",
       "      <th>title</th>\n",
       "      <th>text</th>\n",
       "      <th>label</th>\n",
       "    </tr>\n",
       "  </thead>\n",
       "  <tbody>\n",
       "    <tr>\n",
       "      <th>3534</th>\n",
       "      <td>Hillary Clinton, Bernie Sanders: King's legacy is alive</td>\n",
       "      <td>a day after the candidates squared off in a fiery debate, they came to columbia, south carolina, and largely agreed that while king's impact can still be felt today, work still needs to be done to guarantee racial equality.\\n\\n\"yes, the challenges we face are many, but so are the quiet heroes working in every corner of america today doing their part to make our country a better place,\" said the former secretary of state. \"i for one receive much inspiration from that simple fact.\"\\n\\nthere was symbolism in the event organized by the naacp: in front of a statehouse that flew the confederate battle flag until it was taken down last year. all three candidates noted the flag being removed.\\n\\n\"the flag is down but we are still here because that flag was just one piece of something bigger,\" clinton said. \"dr. king died with his work unfinished and it is up to us to see through.\"\\n\\nsanders argued that king is not just a historic figure, but someone whose moral compass should guide people today. repeating the phrase \"i think if he were here today,\" sanders argued that if king were alive today, he would be supporting many of his presidential positions. \"as we celebrate his life it is terribly important to me that we don't just look at him as a museum figure, somebody in the past,\" the vermont senator said. \"it is important to me that we look at his vision, to see the america he wanted to see.\" sanders and o'malley walked in the naacp sponsored march before the event, strolling down the streets of charleston as activists chanted. o'malley, whose birthday is monday, laughed when asked what he wanted for his birthday, telling reporters that he is hoping for \"beat expectations\" in iowa for his birthday.</td>\n",
       "      <td>REAL</td>\n",
       "    </tr>\n",
       "    <tr>\n",
       "      <th>6265</th>\n",
       "      <td>VIDEO : FBI SOURCES SAY INDICTMENT LIKELY FOR CLINTON – TruthFeed</td>\n",
       "      <td>video : fbi sources say indictment likely for clinton video : fbi sources say indictment likely for clinton videos by truthfeednews november 3, 2016 \\nbret baier: here’s the deal: we talked to two separate sources with intimate knowledge of the fbi investigations. one: the clinton foundation investigation is far more expansive than anybody has reported so far… several offices separately have been doing their own investigations. \\ntwo: the immunity deal that cheryl mills and heather samuelson, two top aides to hillary clinton, got from the justice department in which it was beleived that the laptops they had, after a narrow review for classified materials, were going to be destroyed. we have been told that those have not been destroyed — they are at the fbi field office here on washington and are being exploited. . \\nthree: the clinton foundation investigation is so expansive, they have interviewed and re-interviewed many people. they described the evidence they have as ‘a lot of it’ and said there is an ‘avalanche coming in every day.’ wikileaks and the new emails. \\nthey are “actively and aggressively pursuing this case.” remember the foundation case is about accusations of pay-for-play… they are taking the new information and some of them are going back to interview people for the third time. as opposed to what has been written about the clinton foundation investigation, it is expansive. \\nthe classified e-mail investigation is being run by the national security division of the fbi. they are currently combing through anthony weiner’s laptop. they are having some success — finding what they believe to be new emaisls, not duplicates, that have been transported through hillary clinton’s server. \\nfinally, we learned there is a confidence from these sources that her server had been hacked. and that it was a 99% accuracy that it had been hacked by at least five foreign intelligence agencies, and that things had been taken from that… \\nthere has been some angst about attorney general loretta lynch — what she has done or not done. she obviously did not impanel, or go to a grand jury at the beginning. they also have a problem, these sources do, with what president obama said today and back in october of 2015… \\ni pressed again and again on this very issue… the investigations will continue, there is a lot of evidence. and barring some obstruction in some way, they believe they will continue to likely an indictment. \\nsupport the trump movement and help us fight liberal media bias. please like and share this story on facebook or twitter.</td>\n",
       "      <td>FAKE</td>\n",
       "    </tr>\n",
       "  </tbody>\n",
       "</table>\n",
       "</div>"
      ],
      "text/plain": [
       "                                                                  title  \\\n",
       "3534            Hillary Clinton, Bernie Sanders: King's legacy is alive   \n",
       "6265  VIDEO : FBI SOURCES SAY INDICTMENT LIKELY FOR CLINTON – TruthFeed   \n",
       "\n",
       "                                                                                                                                                                                                                                                                                                                                                                                                                                                                                                                                                                                                                                                                                                                                                                                                                                                                                                                                                                                                                                                                                                                                                                                                                                                                                                                                                                                                                                                                                                                                                                                                                                                                                                                                                                                                                                                                                                                                                                                                                                                                                                                                                                                                                                                                                                                                                                                                                                                                                                                                                                                                                                                                                  text  \\\n",
       "3534                                                                                                                                                                                                                                                                                                                                                                                                                                                                                                                                                                                                                                                                                                                                                                                                                                                                                          a day after the candidates squared off in a fiery debate, they came to columbia, south carolina, and largely agreed that while king's impact can still be felt today, work still needs to be done to guarantee racial equality.\\n\\n\"yes, the challenges we face are many, but so are the quiet heroes working in every corner of america today doing their part to make our country a better place,\" said the former secretary of state. \"i for one receive much inspiration from that simple fact.\"\\n\\nthere was symbolism in the event organized by the naacp: in front of a statehouse that flew the confederate battle flag until it was taken down last year. all three candidates noted the flag being removed.\\n\\n\"the flag is down but we are still here because that flag was just one piece of something bigger,\" clinton said. \"dr. king died with his work unfinished and it is up to us to see through.\"\\n\\nsanders argued that king is not just a historic figure, but someone whose moral compass should guide people today. repeating the phrase \"i think if he were here today,\" sanders argued that if king were alive today, he would be supporting many of his presidential positions. \"as we celebrate his life it is terribly important to me that we don't just look at him as a museum figure, somebody in the past,\" the vermont senator said. \"it is important to me that we look at his vision, to see the america he wanted to see.\" sanders and o'malley walked in the naacp sponsored march before the event, strolling down the streets of charleston as activists chanted. o'malley, whose birthday is monday, laughed when asked what he wanted for his birthday, telling reporters that he is hoping for \"beat expectations\" in iowa for his birthday.   \n",
       "6265  video : fbi sources say indictment likely for clinton video : fbi sources say indictment likely for clinton videos by truthfeednews november 3, 2016 \\nbret baier: here’s the deal: we talked to two separate sources with intimate knowledge of the fbi investigations. one: the clinton foundation investigation is far more expansive than anybody has reported so far… several offices separately have been doing their own investigations. \\ntwo: the immunity deal that cheryl mills and heather samuelson, two top aides to hillary clinton, got from the justice department in which it was beleived that the laptops they had, after a narrow review for classified materials, were going to be destroyed. we have been told that those have not been destroyed — they are at the fbi field office here on washington and are being exploited. . \\nthree: the clinton foundation investigation is so expansive, they have interviewed and re-interviewed many people. they described the evidence they have as ‘a lot of it’ and said there is an ‘avalanche coming in every day.’ wikileaks and the new emails. \\nthey are “actively and aggressively pursuing this case.” remember the foundation case is about accusations of pay-for-play… they are taking the new information and some of them are going back to interview people for the third time. as opposed to what has been written about the clinton foundation investigation, it is expansive. \\nthe classified e-mail investigation is being run by the national security division of the fbi. they are currently combing through anthony weiner’s laptop. they are having some success — finding what they believe to be new emaisls, not duplicates, that have been transported through hillary clinton’s server. \\nfinally, we learned there is a confidence from these sources that her server had been hacked. and that it was a 99% accuracy that it had been hacked by at least five foreign intelligence agencies, and that things had been taken from that… \\nthere has been some angst about attorney general loretta lynch — what she has done or not done. she obviously did not impanel, or go to a grand jury at the beginning. they also have a problem, these sources do, with what president obama said today and back in october of 2015… \\ni pressed again and again on this very issue… the investigations will continue, there is a lot of evidence. and barring some obstruction in some way, they believe they will continue to likely an indictment. \\nsupport the trump movement and help us fight liberal media bias. please like and share this story on facebook or twitter.    \n",
       "\n",
       "     label  \n",
       "3534  REAL  \n",
       "6265  FAKE  "
      ]
     },
     "execution_count": 31,
     "metadata": {},
     "output_type": "execute_result"
    }
   ],
   "source": [
    "# Set the Pandas column width not to truncate the long text lines.\n",
    "pd.set_option('display.max_colwidth', None)\n",
    "data.iloc[[3534, 6265], :]"
   ]
  },
  {
   "cell_type": "code",
   "execution_count": 36,
   "metadata": {},
   "outputs": [
    {
     "data": {
      "text/plain": [
       "FAKE    638\n",
       "REAL    629\n",
       "Name: label, dtype: int64"
      ]
     },
     "execution_count": 36,
     "metadata": {},
     "output_type": "execute_result"
    }
   ],
   "source": [
    "# fake = y_test['FAKE'].value_counts()\n",
    "y_test.value_counts()"
   ]
  },
  {
   "cell_type": "code",
   "execution_count": 43,
   "metadata": {},
   "outputs": [
    {
     "name": "stdout",
     "output_type": "stream",
     "text": [
      "Accuracy: 92.42%\n"
     ]
    }
   ],
   "source": [
    "# Saving then loading trained model using pickel lib. See https://machinelearningmastery.com/save-load-machine-learning-models-python-scikit-learn/\n",
    "\n",
    "pickle.dump(pac, open('saved_model', 'wb'))\n",
    "\n",
    "loaded_model = pickle.load(open('saved_model', 'rb'))\n",
    "tfidf_test = tfidf_vectorizer.transform(x_test)\n",
    "# Predict on the test set and calculate accuracy\n",
    "y_pred = loaded_model.predict(tfidf_test)\n",
    "score = accuracy_score(y_test, y_pred)\n",
    "print(f'Accuracy: {round(score*100,2)}%')\n"
   ]
  }
 ],
 "metadata": {
  "interpreter": {
   "hash": "1c10069e51659376e17d6109415074244df214c2fbce5e387802d9c88623e9c4"
  },
  "kernelspec": {
   "display_name": "Python 3.6.10 64-bit ('PythonData': conda)",
   "name": "python3"
  },
  "language_info": {
   "codemirror_mode": {
    "name": "ipython",
    "version": 3
   },
   "file_extension": ".py",
   "mimetype": "text/x-python",
   "name": "python",
   "nbconvert_exporter": "python",
   "pygments_lexer": "ipython3",
   "version": "3.6.10"
  }
 },
 "nbformat": 4,
 "nbformat_minor": 4
}